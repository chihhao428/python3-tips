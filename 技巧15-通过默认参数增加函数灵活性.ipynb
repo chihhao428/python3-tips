{
 "cells": [
  {
   "cell_type": "code",
   "execution_count": 5,
   "metadata": {},
   "outputs": [
    {
     "name": "stdout",
     "output_type": "stream",
     "text": [
      "Hi Python, hello world\n"
     ]
    }
   ],
   "source": [
    "class Hi:\n",
    "    \n",
    "    def say(self, name, greetings='hello'):\n",
    "        print('Hi {}, {}'.format(name, greetings))\n",
    "\n",
    "hi = Hi()\n",
    "hi.say(name='Python', greetings='hello world')"
   ]
  },
  {
   "cell_type": "code",
   "execution_count": 7,
   "metadata": {},
   "outputs": [
    {
     "name": "stdout",
     "output_type": "stream",
     "text": [
      "Hi test, hi hi hi\n"
     ]
    }
   ],
   "source": [
    "hi.say(name='test', greetings='hi hi hi')"
   ]
  },
  {
   "cell_type": "code",
   "execution_count": null,
   "metadata": {},
   "outputs": [],
   "source": []
  }
 ],
 "metadata": {
  "kernelspec": {
   "display_name": "Python 3",
   "language": "python",
   "name": "python3"
  },
  "language_info": {
   "codemirror_mode": {
    "name": "ipython",
    "version": 3
   },
   "file_extension": ".py",
   "mimetype": "text/x-python",
   "name": "python",
   "nbconvert_exporter": "python",
   "pygments_lexer": "ipython3",
   "version": "3.7.0"
  }
 },
 "nbformat": 4,
 "nbformat_minor": 2
}
